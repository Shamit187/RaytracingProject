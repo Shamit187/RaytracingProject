{
 "cells": [
  {
   "cell_type": "code",
   "execution_count": 10,
   "metadata": {},
   "outputs": [],
   "source": [
    "#open utah_teapot.txt file and read the lines\n",
    "with open('utah_teapot.txt') as f:\n",
    "    lines = f.readlines()"
   ]
  },
  {
   "cell_type": "code",
   "execution_count": 11,
   "metadata": {},
   "outputs": [
    {
     "name": "stdout",
     "output_type": "stream",
     "text": [
      "3488.0\n"
     ]
    }
   ],
   "source": [
    "#remove all lines that has empty string\n",
    "lines = [x.strip() for x in lines if x.strip()]\n",
    "print(len(lines)/ 6)\n"
   ]
  },
  {
   "cell_type": "code",
   "execution_count": 16,
   "metadata": {},
   "outputs": [
    {
     "name": "stdout",
     "output_type": "stream",
     "text": [
      "3488\n"
     ]
    }
   ],
   "source": [
    "import math\n",
    "\n",
    "# data object definition for a single triangle\n",
    "class Triangle:\n",
    "    def __init__(self, v1, v2, v3, n1, n2, n3):\n",
    "        self.v1 = v1\n",
    "        self.v2 = v2\n",
    "        self.v3 = v3\n",
    "        self.n1 = n1\n",
    "        self.n2 = n2\n",
    "        self.n3 = n3\n",
    "    \n",
    "    def calculate_normal(self):\n",
    "        # calculate the normal of the triangle\n",
    "        # first calculate the vectors\n",
    "        v1 = Vertex(vertices[self.v2].x - vertices[self.v1].x,\n",
    "                    vertices[self.v2].y - vertices[self.v1].y,\n",
    "                    vertices[self.v2].z - vertices[self.v1].z)\n",
    "        v2 = Vertex(vertices[self.v3].x - vertices[self.v1].x,\n",
    "                    vertices[self.v3].y - vertices[self.v1].y,\n",
    "                    vertices[self.v3].z - vertices[self.v1].z)\n",
    "        \n",
    "        # now calculate the cross product\n",
    "        x = v1.y * v2.z - v1.z * v2.y\n",
    "        y = v1.z * v2.x - v1.x * v2.z\n",
    "        z = v1.x * v2.y - v1.y * v2.x\n",
    "        \n",
    "        # normalize the vector\n",
    "        length = math.sqrt(x * x + y * y + z * z)\n",
    "        x = x / length\n",
    "        y = y / length\n",
    "        z = z / length\n",
    "        \n",
    "        # return the normal\n",
    "        return Normal(x, y, z)\n",
    "    \n",
    "    def __str__(self):\n",
    "        return str(self.v1) + \"\\n \" + str(self.v2) + \"\\n \" + str(self.v3) + \"\\n \" + str(self.calculate_normal())\n",
    "\n",
    "# data object definition for a single vertex\n",
    "class Vertex:\n",
    "    def __init__(self, x, y, z):\n",
    "        self.x = x\n",
    "        self.y = y\n",
    "        self.z = z\n",
    "\n",
    "    def __str__(self):\n",
    "        return str(self.x) + \" \" + str(self.y) + \" \" + str(self.z)\n",
    "\n",
    "# data object definition for a single normal\n",
    "class Normal:\n",
    "    def __init__(self, x, y, z):\n",
    "        self.x = x\n",
    "        self.y = y\n",
    "        self.z = z\n",
    "    \n",
    "    def __str__(self):\n",
    "        return str(self.x) + \" \" + str(self.y) + \" \" + str(self.z)\n",
    "\n",
    "# now parse all the lines and create the triangles\n",
    "triangles = []\n",
    "vertices = []\n",
    "normals = []\n",
    "for i in range(0, len(lines), 6):\n",
    "    # parse the vertices\n",
    "    v1 = lines[i].split()\n",
    "    v2 = lines[i+1].split()\n",
    "    v3 = lines[i+2].split()\n",
    "    vertices.append(Vertex(float(v1[0]), float(v1[1]), float(v1[2])))\n",
    "    vertices.append(Vertex(float(v2[0]), float(v2[1]), float(v2[2])))\n",
    "    vertices.append(Vertex(float(v3[0]), float(v3[1]), float(v3[2])))\n",
    "    \n",
    "    # parse the normals\n",
    "    n1 = lines[i+3].split()\n",
    "    n2 = lines[i+4].split()\n",
    "    n3 = lines[i+5].split()\n",
    "    normals.append(Normal(float(n1[0]), float(n1[1]), float(n1[2])))\n",
    "    normals.append(Normal(float(n2[0]), float(n2[1]), float(n2[2])))\n",
    "    normals.append(Normal(float(n3[0]), float(n3[1]), float(n3[2])))\n",
    "    \n",
    "    # create the triangle\n",
    "    triangles.append(Triangle(vertices[0], vertices[1], vertices[2], normals[0], normals[1], normals[2]))\n",
    "\n",
    "print(len(triangles))\n"
   ]
  },
  {
   "cell_type": "code",
   "execution_count": 14,
   "metadata": {},
   "outputs": [],
   "source": [
    "material = {\n",
    "    'color': [0.5, 0.5, 0.5],\n",
    "    'ambient' : 0.1,\n",
    "    'diffuse' : 0.7,\n",
    "    'specular' : 0.2,\n",
    "    'shininess' : 200,\n",
    "    'reflective' : 0.0,\n",
    "    'refraction' : 0.0,\n",
    "}"
   ]
  },
  {
   "cell_type": "code",
   "execution_count": 17,
   "metadata": {},
   "outputs": [
    {
     "ename": "TypeError",
     "evalue": "list indices must be integers or slices, not Vertex",
     "output_type": "error",
     "traceback": [
      "\u001b[1;31m---------------------------------------------------------------------------\u001b[0m",
      "\u001b[1;31mTypeError\u001b[0m                                 Traceback (most recent call last)",
      "Cell \u001b[1;32mIn[17], line 5\u001b[0m\n\u001b[0;32m      3\u001b[0m \u001b[39mwith\u001b[39;00m \u001b[39mopen\u001b[39m(\u001b[39m'\u001b[39m\u001b[39mteapot.txt\u001b[39m\u001b[39m'\u001b[39m, \u001b[39m'\u001b[39m\u001b[39mw\u001b[39m\u001b[39m'\u001b[39m) \u001b[39mas\u001b[39;00m f:\n\u001b[0;32m      4\u001b[0m     \u001b[39mfor\u001b[39;00m triangle \u001b[39min\u001b[39;00m triangles:\n\u001b[1;32m----> 5\u001b[0m         f\u001b[39m.\u001b[39mwrite(\u001b[39mstr\u001b[39;49m(triangle) \u001b[39m+\u001b[39m \u001b[39m\"\u001b[39m\u001b[39m\\n\u001b[39;00m\u001b[39m\"\u001b[39m)\n",
      "Cell \u001b[1;32mIn[16], line 38\u001b[0m, in \u001b[0;36mTriangle.__str__\u001b[1;34m(self)\u001b[0m\n\u001b[0;32m     37\u001b[0m \u001b[39mdef\u001b[39;00m \u001b[39m__str__\u001b[39m(\u001b[39mself\u001b[39m):\n\u001b[1;32m---> 38\u001b[0m     \u001b[39mreturn\u001b[39;00m \u001b[39mstr\u001b[39m(\u001b[39mself\u001b[39m\u001b[39m.\u001b[39mv1) \u001b[39m+\u001b[39m \u001b[39m\"\u001b[39m\u001b[39m\\n\u001b[39;00m\u001b[39m \u001b[39m\u001b[39m\"\u001b[39m \u001b[39m+\u001b[39m \u001b[39mstr\u001b[39m(\u001b[39mself\u001b[39m\u001b[39m.\u001b[39mv2) \u001b[39m+\u001b[39m \u001b[39m\"\u001b[39m\u001b[39m\\n\u001b[39;00m\u001b[39m \u001b[39m\u001b[39m\"\u001b[39m \u001b[39m+\u001b[39m \u001b[39mstr\u001b[39m(\u001b[39mself\u001b[39m\u001b[39m.\u001b[39mv3) \u001b[39m+\u001b[39m \u001b[39m\"\u001b[39m\u001b[39m\\n\u001b[39;00m\u001b[39m \u001b[39m\u001b[39m\"\u001b[39m \u001b[39m+\u001b[39m \u001b[39mstr\u001b[39m(\u001b[39mself\u001b[39;49m\u001b[39m.\u001b[39;49mcalculate_normal())\n",
      "Cell \u001b[1;32mIn[16], line 16\u001b[0m, in \u001b[0;36mTriangle.calculate_normal\u001b[1;34m(self)\u001b[0m\n\u001b[0;32m     13\u001b[0m \u001b[39mdef\u001b[39;00m \u001b[39mcalculate_normal\u001b[39m(\u001b[39mself\u001b[39m):\n\u001b[0;32m     14\u001b[0m     \u001b[39m# calculate the normal of the triangle\u001b[39;00m\n\u001b[0;32m     15\u001b[0m     \u001b[39m# first calculate the vectors\u001b[39;00m\n\u001b[1;32m---> 16\u001b[0m     v1 \u001b[39m=\u001b[39m Vertex(vertices[\u001b[39mself\u001b[39;49m\u001b[39m.\u001b[39;49mv2]\u001b[39m.\u001b[39mx \u001b[39m-\u001b[39m vertices[\u001b[39mself\u001b[39m\u001b[39m.\u001b[39mv1]\u001b[39m.\u001b[39mx,\n\u001b[0;32m     17\u001b[0m                 vertices[\u001b[39mself\u001b[39m\u001b[39m.\u001b[39mv2]\u001b[39m.\u001b[39my \u001b[39m-\u001b[39m vertices[\u001b[39mself\u001b[39m\u001b[39m.\u001b[39mv1]\u001b[39m.\u001b[39my,\n\u001b[0;32m     18\u001b[0m                 vertices[\u001b[39mself\u001b[39m\u001b[39m.\u001b[39mv2]\u001b[39m.\u001b[39mz \u001b[39m-\u001b[39m vertices[\u001b[39mself\u001b[39m\u001b[39m.\u001b[39mv1]\u001b[39m.\u001b[39mz)\n\u001b[0;32m     19\u001b[0m     v2 \u001b[39m=\u001b[39m Vertex(vertices[\u001b[39mself\u001b[39m\u001b[39m.\u001b[39mv3]\u001b[39m.\u001b[39mx \u001b[39m-\u001b[39m vertices[\u001b[39mself\u001b[39m\u001b[39m.\u001b[39mv1]\u001b[39m.\u001b[39mx,\n\u001b[0;32m     20\u001b[0m                 vertices[\u001b[39mself\u001b[39m\u001b[39m.\u001b[39mv3]\u001b[39m.\u001b[39my \u001b[39m-\u001b[39m vertices[\u001b[39mself\u001b[39m\u001b[39m.\u001b[39mv1]\u001b[39m.\u001b[39my,\n\u001b[0;32m     21\u001b[0m                 vertices[\u001b[39mself\u001b[39m\u001b[39m.\u001b[39mv3]\u001b[39m.\u001b[39mz \u001b[39m-\u001b[39m vertices[\u001b[39mself\u001b[39m\u001b[39m.\u001b[39mv1]\u001b[39m.\u001b[39mz)\n\u001b[0;32m     23\u001b[0m     \u001b[39m# now calculate the cross product\u001b[39;00m\n",
      "\u001b[1;31mTypeError\u001b[0m: list indices must be integers or slices, not Vertex"
     ]
    }
   ],
   "source": [
    "#now write the triangles to a file\n",
    "\n",
    "with open('teapot.txt', 'w') as f:\n",
    "    for triangle in triangles:\n",
    "        f.write(str(triangle) + \"\\n\")"
   ]
  },
  {
   "cell_type": "code",
   "execution_count": null,
   "metadata": {},
   "outputs": [],
   "source": []
  }
 ],
 "metadata": {
  "kernelspec": {
   "display_name": "Python 3",
   "language": "python",
   "name": "python3"
  },
  "language_info": {
   "codemirror_mode": {
    "name": "ipython",
    "version": 3
   },
   "file_extension": ".py",
   "mimetype": "text/x-python",
   "name": "python",
   "nbconvert_exporter": "python",
   "pygments_lexer": "ipython3",
   "version": "3.10.7"
  },
  "orig_nbformat": 4
 },
 "nbformat": 4,
 "nbformat_minor": 2
}
