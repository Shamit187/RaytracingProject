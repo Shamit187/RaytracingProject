{
 "cells": [
  {
   "cell_type": "code",
   "execution_count": 17,
   "metadata": {},
   "outputs": [],
   "source": [
    "#open utah_teapot.txt file and read the lines\n",
    "with open('utah_teapot.txt') as f:\n",
    "    lines = f.readlines()"
   ]
  },
  {
   "cell_type": "code",
   "execution_count": 18,
   "metadata": {},
   "outputs": [
    {
     "name": "stdout",
     "output_type": "stream",
     "text": [
      "3488.0\n"
     ]
    }
   ],
   "source": [
    "#remove all lines that has empty string\n",
    "lines = [x.strip() for x in lines if x.strip()]\n",
    "print(len(lines)/ 6)\n"
   ]
  },
  {
   "cell_type": "code",
   "execution_count": 19,
   "metadata": {},
   "outputs": [
    {
     "name": "stdout",
     "output_type": "stream",
     "text": [
      "3488\n"
     ]
    }
   ],
   "source": [
    "import math\n",
    "\n",
    "# data object definition for a single triangle\n",
    "class Triangle:\n",
    "    def __init__(self, v1, v2, v3, n1, n2, n3):\n",
    "        self.v1 = v1\n",
    "        self.v2 = v2\n",
    "        self.v3 = v3\n",
    "        self.n1 = n1\n",
    "        self.n2 = n2\n",
    "        self.n3 = n3\n",
    "    \n",
    "    def calculate_normal(self):\n",
    "        #given the normal to three vertices of a triangle, calculate the normal of the triangle\n",
    "\n",
    "        #calculate the vector between v1 and v2\n",
    "        v1 = [self.v2.x - self.v1.x, self.v2.y - self.v1.y, self.v2.z - self.v1.z]\n",
    "        #calculate the vector between v1 and v3\n",
    "        v2 = [self.v3.x - self.v1.x, self.v3.y - self.v1.y, self.v3.z - self.v1.z]\n",
    "        #calculate the cross product of v1 and v2\n",
    "        cross_product = [v1[1]*v2[2] - v1[2]*v2[1], v1[2]*v2[0] - v1[0]*v2[2], v1[0]*v2[1] - v1[1]*v2[0]]\n",
    "        #calculate the magnitude of the cross product\n",
    "        magnitude = math.sqrt(cross_product[0]**2 + cross_product[1]**2 + cross_product[2]**2)\n",
    "        #normalize the cross product\n",
    "        normal = [cross_product[0]/magnitude, cross_product[1]/magnitude, cross_product[2]/magnitude]\n",
    "        #return the normal\n",
    "        return normal\n",
    "    \n",
    "    def __str__(self):\n",
    "        normal = self.calculate_normal()\n",
    "        return str(self.v1) + \"\\n\" + str(self.v2) + \"\\n\" + str(self.v3) + \"\\n\" + str(normal[0]) + \" \" + str(normal[1]) + \" \" + str(normal[2])\n",
    "    \n",
    "# data object definition for a single vertex\n",
    "class Vertex:\n",
    "    def __init__(self, x, y, z):\n",
    "        self.x = x\n",
    "        self.y = y\n",
    "        self.z = z\n",
    "\n",
    "    def __str__(self):\n",
    "        multiplier = 50\n",
    "        return str(self.x * multiplier) + \" \" + str(self.y  * multiplier) + \" \" + str(self.z  * multiplier)\n",
    "\n",
    "# data object definition for a single normal\n",
    "class Normal:\n",
    "    def __init__(self, x, y, z):\n",
    "        self.x = x\n",
    "        self.y = y\n",
    "        self.z = z\n",
    "    \n",
    "    def __str__(self):\n",
    "        return str(self.x) + \" \" + str(self.y) + \" \" + str(self.z)\n",
    "\n",
    "# now parse all the lines and create the triangles\n",
    "triangles = []\n",
    "vertices = []\n",
    "normals = []\n",
    "for i in range(0, len(lines), 6):\n",
    "    # parse the vertices\n",
    "    v1 = lines[i].split()\n",
    "    v2 = lines[i+1].split()\n",
    "    v3 = lines[i+2].split()\n",
    "    vertices.append(Vertex(float(v1[0]), float(v1[1]), float(v1[2])))\n",
    "    vertices.append(Vertex(float(v2[0]), float(v2[1]), float(v2[2])))\n",
    "    vertices.append(Vertex(float(v3[0]), float(v3[1]), float(v3[2])))\n",
    "    \n",
    "    # parse the normals\n",
    "    n1 = lines[i+3].split()\n",
    "    n2 = lines[i+4].split()\n",
    "    n3 = lines[i+5].split()\n",
    "    normals.append(Normal(float(n1[0]), float(n1[1]), float(n1[2])))\n",
    "    normals.append(Normal(float(n2[0]), float(n2[1]), float(n2[2])))\n",
    "    normals.append(Normal(float(n3[0]), float(n3[1]), float(n3[2])))\n",
    "    \n",
    "    # create the triangle\n",
    "    triangles.append(Triangle(vertices[0], vertices[1], vertices[2], normals[0], normals[1], normals[2]))\n",
    "\n",
    "print(len(triangles))\n"
   ]
  },
  {
   "cell_type": "code",
   "execution_count": 20,
   "metadata": {},
   "outputs": [],
   "source": [
    "material = {\n",
    "    'color': [0.5, 0.5, 0.5],\n",
    "    'ambient' : 0.1,\n",
    "    'diffuse' : 0.7,\n",
    "    'specular' : 0.2,\n",
    "    'shininess' : 200,\n",
    "    'reflective' : 0.0,\n",
    "    'refraction' : 0.0,\n",
    "}"
   ]
  },
  {
   "cell_type": "code",
   "execution_count": 21,
   "metadata": {},
   "outputs": [],
   "source": [
    "#now write the triangles to a file\n",
    "\n",
    "with open('teapot.txt', 'w') as f:\n",
    "    f.write(str(len(triangles)) + \"\\n\\n\")\n",
    "    for triangle in triangles:\n",
    "        f.write(\"triangle\\n\")\n",
    "        f.write(str(triangle) + \"\\n\")\n",
    "        f.write(str(material['color'][0]) + \" \" + str(material['color'][1]) + \" \" + str(material['color'][2]) + \"\\n\")\n",
    "        f.write(str(material['ambient']) + \" \" + str(material['diffuse']) + \" \" + str(material['specular']) + \" \" + str(material['reflective']) + \"\\n\" + str(material['refraction']) + \"\\n\")\n",
    "        f.write(str(material['shininess']) + \"\\n\")\n",
    "        f.write(\"\\n\")"
   ]
  },
  {
   "cell_type": "code",
   "execution_count": null,
   "metadata": {},
   "outputs": [],
   "source": []
  }
 ],
 "metadata": {
  "kernelspec": {
   "display_name": "Python 3",
   "language": "python",
   "name": "python3"
  },
  "language_info": {
   "codemirror_mode": {
    "name": "ipython",
    "version": 3
   },
   "file_extension": ".py",
   "mimetype": "text/x-python",
   "name": "python",
   "nbconvert_exporter": "python",
   "pygments_lexer": "ipython3",
   "version": "3.10.7"
  },
  "orig_nbformat": 4
 },
 "nbformat": 4,
 "nbformat_minor": 2
}
